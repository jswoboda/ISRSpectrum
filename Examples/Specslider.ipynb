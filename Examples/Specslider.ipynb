{
 "cells": [
  {
   "cell_type": "markdown",
   "metadata": {},
   "source": [
    "# Slider Example\n",
    "This example will allow the user to use sliders to interact with the ISR spectra. Currently this notebook creates two images. The first is a dual plot of the ACF and Power spectra expected for 100% O+ ionosphere and k = 18.5 with ion and electron temperature from the sliders. The second image is an image of the spectra that varies over wave number and an ion temperature derived from the sliders."
   ]
  },
  {
   "cell_type": "code",
   "execution_count": 12,
   "metadata": {
    "collapsed": true
   },
   "outputs": [],
   "source": [
    "import numpy as np\n",
    "import matplotlib as mpl\n",
    "import scipy.fftpack as scfft\n",
    "\n",
    "import matplotlib.pylab as plt\n",
    "import seaborn as sns\n",
    "sns.set_style(\"white\")\n",
    "sns.set_context(\"notebook\")\n",
    "#\n",
    "from ISRSpectrum.ISRSpectrum import ISRSpectrum\n",
    "from isrutilities.physConstants import v_C_0\n",
    "import ipywidgets \n",
    "from IPython.display import display\n",
    "def plot1dspec(Ti,Te):\n",
    "    mpl.rcParams['text.usetex'] = True\n",
    "    mpl.rcParams['text.latex.preamble'] = [r'\\usepackage{amsmath}'] #for \\text command\n",
    "    databloc = np.array([[1e11,Ti],[1e11,Te]])\n",
    "    nspec=256\n",
    "    spfreq=50e3\n",
    "    ISpec_ion = ISRSpectrum(centerFrequency = 449e6, nspec=nspec, sampfreq=spfreq,dFlag=True)\n",
    "    species=['O+','e-']\n",
    "#    databloc = np.array([[1.66e10,863.],[1.66e10,863.]])\n",
    "    ylim=[0,1.4]\n",
    "    ylim2=[-.5,1.4]\n",
    "    flims=np.array([3.03e6,3.034e6])\n",
    "    \n",
    "    \n",
    "    fion,ionline= ISpec_ion.getspecsep(databloc,species)\n",
    "    \n",
    "    acf=scfft.ifft(scfft.ifftshift(ionline)).real\n",
    "    tau=scfft.ifftshift(np.arange(-np.ceil((float(nspec)-1)/2),np.floor((float(nspec)-1)/2)+1))/spfreq\n",
    "    \n",
    "    \n",
    "    \n",
    "    \n",
    "    fig,ax = plt.subplots(1,2,sharey=False, figsize=(6,4),facecolor='w')\n",
    "    \n",
    "    l1=ax[0].plot(fion*1e-3,ionline/ionline.max(),'-',lw=3)[0]\n",
    "    sns.despine()\n",
    "\n",
    "    ax[0].set_xlim([-15,15])\n",
    "    ax[0].spines['right'].set_visible(False)\n",
    "\n",
    "    ax[0].set_xlabel('Frequency (kHz)',fontsize=14)\n",
    "    ax[0].set_title(r'$\\langle|n_e(|\\mathbf{k}|=18.5\\;\\mathrm{ rad/m},\\omega)|^2\\rangle$',fontsize=18)\n",
    "    ax[0].set_ylabel(r'Normalized Magnitude',fontsize=14)\n",
    "    \n",
    "    ax[0].set_ylim(ylim)\n",
    "    \n",
    "    \n",
    "    \n",
    "    l1=ax[1].plot(tau[:64]*1e6,acf[:64]/acf[0],'-',lw=3)[0]\n",
    "    sns.despine()\n",
    "\n",
    "    ax[1].set_xlim([0,280])\n",
    "    ax[1].spines['right'].set_visible(False)\n",
    "\n",
    "    ax[1].set_xlabel(r'$\\tau$ in $\\mu$s ',fontsize=14)\n",
    "    ax[1].set_title(r'$\\langle|n_e(|\\mathbf{k}|=18.5\\;\\mathrm{ rad/m},\\tau)|^2\\rangle$',fontsize=18)\n",
    "    ax[1].set_ylabel(r'Normalized Magnitude',fontsize=14)\n",
    "    plt.tight_layout()\n",
    "    ax[1].set_ylim(ylim2)\n",
    "    plt.show()\n",
    "    \n",
    "    \n"
   ]
  },
  {
   "cell_type": "markdown",
   "metadata": {},
   "source": [
    "## ACF and Spectra\n",
    "This will show a plot of the spectra and ACF with sliders for the electron and ion temperatures. The frequency of the radar is 449 MHz carrier frequency (UHF)."
   ]
  },
  {
   "cell_type": "code",
   "execution_count": 20,
   "metadata": {},
   "outputs": [
    {
     "data": {
      "application/vnd.jupyter.widget-view+json": {
       "model_id": "9345a130d8aa42a59aa183c528e2eddf",
       "version_major": 2,
       "version_minor": 0
      },
      "text/html": [
       "<p>Failed to display Jupyter Widget of type <code>interactive</code>.</p>\n",
       "<p>\n",
       "  If you're reading this message in the Jupyter Notebook or JupyterLab Notebook, it may mean\n",
       "  that the widgets JavaScript is still loading. If this message persists, it\n",
       "  likely means that the widgets JavaScript library is either not installed or\n",
       "  not enabled. See the <a href=\"https://ipywidgets.readthedocs.io/en/stable/user_install.html\">Jupyter\n",
       "  Widgets Documentation</a> for setup instructions.\n",
       "</p>\n",
       "<p>\n",
       "  If you're reading this message in another frontend (for example, a static\n",
       "  rendering on GitHub or <a href=\"https://nbviewer.jupyter.org/\">NBViewer</a>),\n",
       "  it may mean that your frontend doesn't currently support widgets.\n",
       "</p>\n"
      ],
      "text/plain": [
       "interactive(children=(FloatSlider(value=1000.0, continuous_update=False, description=u'Ti:', max=5000.0, min=500.0, readout_format=u'.1f', step=500.0), FloatSlider(value=1000.0, continuous_update=False, description=u'Te:', max=5000.0, min=500.0, readout_format=u'.1f', step=500.0), Output(layout=Layout(height=u'400px'))), _dom_classes=('widget-interact',))"
      ]
     },
     "metadata": {},
     "output_type": "display_data"
    }
   ],
   "source": [
    "\n",
    "slideTi = ipywidgets.FloatSlider(\n",
    "    value=1000.,\n",
    "    min=500.,\n",
    "    max=5000.,\n",
    "    step=500.,\n",
    "    description='Ti:',\n",
    "    disabled=False,\n",
    "    continuous_update=False,\n",
    "    orientation='horizontal',\n",
    "    readout=True,\n",
    "    readout_format='.1f',\n",
    "    slider_color='white'\n",
    ")\n",
    "slideTe = ipywidgets.FloatSlider(\n",
    "    value=1000.,\n",
    "    min=500.,\n",
    "    max=5000.,\n",
    "    step=500.,\n",
    "    description='Te:',\n",
    "    disabled=False,\n",
    "    continuous_update=False,\n",
    "    orientation='horizontal',\n",
    "    readout=True,\n",
    "    readout_format='.1f',\n",
    "    slider_color='white'\n",
    ")\n",
    "w = ipywidgets.interactive(plot1dspec,Ti=slideTi,Te=slideTe)\n",
    "output = w.children[-1]\n",
    "output.layout.height = '400px'\n",
    "w"
   ]
  },
  {
   "cell_type": "markdown",
   "metadata": {},
   "source": [
    "## Spectra Image Varying by Wave Number\n",
    "A plot will be created using the ion temperature from the "
   ]
  },
  {
   "cell_type": "code",
   "execution_count": 21,
   "metadata": {},
   "outputs": [
    {
     "data": {
      "application/vnd.jupyter.widget-view+json": {
       "model_id": "22032408eea94470b8d0c8f280094f9e",
       "version_major": 2,
       "version_minor": 0
      },
      "text/html": [
       "<p>Failed to display Jupyter Widget of type <code>interactive</code>.</p>\n",
       "<p>\n",
       "  If you're reading this message in the Jupyter Notebook or JupyterLab Notebook, it may mean\n",
       "  that the widgets JavaScript is still loading. If this message persists, it\n",
       "  likely means that the widgets JavaScript library is either not installed or\n",
       "  not enabled. See the <a href=\"https://ipywidgets.readthedocs.io/en/stable/user_install.html\">Jupyter\n",
       "  Widgets Documentation</a> for setup instructions.\n",
       "</p>\n",
       "<p>\n",
       "  If you're reading this message in another frontend (for example, a static\n",
       "  rendering on GitHub or <a href=\"https://nbviewer.jupyter.org/\">NBViewer</a>),\n",
       "  it may mean that your frontend doesn't currently support widgets.\n",
       "</p>\n"
      ],
      "text/plain": [
       "interactive(children=(FloatSlider(value=1000.0, continuous_update=False, description=u'Ti:', max=5000.0, min=500.0, readout_format=u'.1f', step=500.0), Output()), _dom_classes=('widget-interact',))"
      ]
     },
     "metadata": {},
     "output_type": "display_data"
    }
   ],
   "source": [
    "\n",
    "slide1 = ipywidgets.FloatSlider(\n",
    "    value=1000.,\n",
    "    min=500.,\n",
    "    max=5000.,\n",
    "    step=500.,\n",
    "    description='Ti:',\n",
    "    disabled=False,\n",
    "    continuous_update=False,\n",
    "    orientation='horizontal',\n",
    "    readout=True,\n",
    "    readout_format='.1f',\n",
    "    slider_color='white'\n",
    ")\n",
    "\n",
    "def plot2dspec(Ti):\n",
    "    databloc = np.array([[1e11,Ti],[1e11,2.5e3]])\n",
    "    species=['O+','e-']\n",
    "    newcentfreq  = 449e6 +np.linspace(-200,550,250)*1e6\n",
    "    k_all= 2*2*np.pi*newcentfreq/v_C_0\n",
    "    k_lims=np.array([k_all.min(),k_all.max()])\n",
    "    freq_lims=np.array([newcentfreq.min(),newcentfreq.max()])\n",
    "    oution = []\n",
    "    for i,if_0 in enumerate(newcentfreq):\n",
    "        ISpec_ion = ISRSpectrum(centerFrequency = if_0, nspec=256, sampfreq=50e3,dFlag=False)\n",
    "        fion,ionline= ISpec_ion.getspecsep(databloc,species)\n",
    "        oution.append(ionline)\n",
    "    oution=np.array(oution)\n",
    "    \n",
    "    \n",
    "    F,K_b=np.meshgrid(fion,k_all)\n",
    "    \n",
    "    fig,ax = plt.subplots(1,1,sharey=True, figsize=(4,4),facecolor='w')\n",
    "    \n",
    "    l1=ax.pcolor(F*1e-3,K_b,oution/oution.max(),cmap='viridis')\n",
    "    cb1 = plt.colorbar(l1, ax=ax)\n",
    "    ax.set_xlim([-25,25])\n",
    "    ax.set_ylim(k_lims)\n",
    "    ax.set_xlabel('Frequency (kHz)',fontsize=14)\n",
    "    ax.set_title(r'$\\langle|n_e(\\mathbf{k},\\omega)|^2\\rangle$',fontsize=18)\n",
    "    ax.set_ylabel(r'$|\\mathbf{k}|$ (rad/m)',fontsize=14)\n",
    "    plt.show()\n",
    "w = ipywidgets.interactive(plot2dspec, Ti=slide1)\n",
    "w"
   ]
  },
  {
   "cell_type": "code",
   "execution_count": null,
   "metadata": {
    "collapsed": true
   },
   "outputs": [],
   "source": []
  }
 ],
 "metadata": {
  "kernelspec": {
   "display_name": "Python 2",
   "language": "python",
   "name": "python2"
  },
  "language_info": {
   "codemirror_mode": {
    "name": "ipython",
    "version": 2
   },
   "file_extension": ".py",
   "mimetype": "text/x-python",
   "name": "python",
   "nbconvert_exporter": "python",
   "pygments_lexer": "ipython2",
   "version": "2.7.13"
  },
  "widgets": {
   "state": {
    "d256d4c68d0246678efc960b2e9e416c": {
     "views": [
      {
       "cell_index": 1
      }
     ]
    }
   },
   "version": "1.2.0"
  }
 },
 "nbformat": 4,
 "nbformat_minor": 2
}
