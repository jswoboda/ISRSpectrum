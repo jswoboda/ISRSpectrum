{
 "cells": [
  {
   "cell_type": "markdown",
   "metadata": {},
   "source": [
    "# Slider Example\n",
    "This example will allow the user to use sliders to interact with the ISR spectra. Currently this notebook creates two images. The first is a dual plot of the ACF and Power spectra expected for 100% O+ ionosphere and k = 18.5 with ion and electron temperature from the sliders. The second image is an image of the spectra that varies over wave number and an ion temperature derived from the sliders."
   ]
  },
  {
   "cell_type": "code",
   "execution_count": 1,
   "metadata": {},
   "outputs": [],
   "source": [
    "import numpy as np\n",
    "import matplotlib as mpl\n",
    "import scipy.fftpack as scfft\n",
    "import scipy.constants as spconst\n",
    "\n",
    "import matplotlib.pylab as plt\n",
    "import seaborn as sns\n",
    "sns.set_style(\"white\")\n",
    "sns.set_context(\"notebook\")\n",
    "#\n",
    "from ISRSpectrum.ISRSpectrum import ISRSpectrum\n",
    "import ipywidgets \n",
    "from IPython.display import display\n",
    "#%matplotlib inline\n",
    "%matplotlib notebook\n",
    "def plot1dspec(Ti,Te):\n",
    "    \"\"\"Plot an IS spectra and ACF given ion and electron temperatures.\n",
    "    Will plot a spectra and ACF over a sampling rate of 50 kHz 256 samples with a center frequency of 440 MHz\n",
    "    Parameters\n",
    "    ----------\n",
    "    Ti : float\n",
    "        Ion temperture in degrees K.\n",
    "    Te : float\n",
    "        Ion temperture in degrees K.\n",
    "    \"\"\"\n",
    "\n",
    "    databloc = np.array([[1e11,Ti],[1e11,Te]])\n",
    "    \n",
    "    # Select Number of points and sampling frequency in the spectra\n",
    "    nspec=256\n",
    "    spfreq=50e3\n",
    "    cfreq = 440e6\n",
    "    kvec = 4*spconst.pi*cfreq/spconst.c\n",
    "    ISpec_ion = ISRSpectrum(centerFrequency=cfreq, nspec=nspec, sampfreq=spfreq,dFlag=True)\n",
    "    \n",
    "    species=['O+','e-']\n",
    "    ylim=[0,1.4]\n",
    "    ylim2=[-.5,1.4]\n",
    "    flims=np.array([3.03e6,3.034e6])\n",
    "    \n",
    "    \n",
    "    fion,ionline= ISpec_ion.getspecsep(databloc,species)\n",
    "    \n",
    "    acf=scfft.ifft(scfft.ifftshift(ionline)).real\n",
    "    tau=scfft.ifftshift(np.arange(-np.ceil((float(nspec)-1)/2),np.floor((float(nspec)-1)/2)+1))/spfreq\n",
    "    \n",
    "    \n",
    "\n",
    "    if 'fig' in locals():\n",
    "        fig.close()\n",
    "        del fig\n",
    "        del ax\n",
    "        \n",
    "    fig,ax = plt.subplots(1,2,sharey=False,facecolor='w')\n",
    "    \n",
    "\n",
    "    l1=ax[0].plot(fion*1e-3,ionline/ionline.max(),'-',lw=3)[0]\n",
    "    sns.despine()\n",
    "\n",
    "    ax[0].set_xlim([-15,15])\n",
    "    ax[0].spines['right'].set_visible(False)\n",
    "\n",
    "    ax[0].set_xlabel('Frequency (kHz)',fontsize=14)\n",
    "    kstr = '{:0.1f}'.format(kvec)\n",
    "    ax[0].set_title('Spectra K={:0.1f}'.format(kvec),fontsize=18)\n",
    "    ax[0].set_ylabel('Normalized Magnitude',fontsize=14)\n",
    "    \n",
    "    ax[0].set_ylim(ylim)\n",
    "    \n",
    "    \n",
    "    \n",
    "    l1=ax[1].plot(tau[:64]*1e6,acf[:64]/acf[0],'-',lw=3)[0]\n",
    "    sns.despine()\n",
    "\n",
    "    ax[1].set_xlim([0,280])\n",
    "    ax[1].spines['right'].set_visible(False)\n",
    "\n",
    "    ax[1].set_xlabel('Lag in Microseconds ',fontsize=14)\n",
    "    ax[1].set_title('ACF K={:0.1f}'.format(kvec),fontsize=18)\n",
    "    ax[1].set_ylabel('Normalized Magnitude',fontsize=14)\n",
    "    \n",
    "    ax[1].set_ylim(ylim2)\n",
    "    plt.tight_layout()\n",
    "    plt.show()\n"
   ]
  },
  {
   "cell_type": "markdown",
   "metadata": {},
   "source": [
    "## ACF and Spectra\n",
    "This will show a plot of the spectra and ACF with sliders for the electron and ion temperatures. The frequency of the radar is 440 MHz carrier frequency (UHF)."
   ]
  },
  {
   "cell_type": "code",
   "execution_count": 2,
   "metadata": {},
   "outputs": [
    {
     "data": {
      "application/vnd.jupyter.widget-view+json": {
       "model_id": "0d7d084177eb4c3d93bb537c85e334a7",
       "version_major": 2,
       "version_minor": 0
      },
      "text/plain": [
       "interactive(children=(FloatSlider(value=1000.0, continuous_update=False, description='Ti in K:', max=5000.0, m…"
      ]
     },
     "metadata": {},
     "output_type": "display_data"
    }
   ],
   "source": [
    "\n",
    "slideTi = ipywidgets.FloatSlider(\n",
    "    value=1000.,\n",
    "    min=500.,\n",
    "    max=5000.,\n",
    "    step=500.,\n",
    "    description='Ti in K:',\n",
    "    disabled=False,\n",
    "    continuous_update=False,\n",
    "    orientation='horizontal',\n",
    "    readout=True,\n",
    "    readout_format='.1f',\n",
    "    slider_color='white'\n",
    ")\n",
    "slideTe = ipywidgets.FloatSlider(\n",
    "    value=1000.,\n",
    "    min=500.,\n",
    "    max=5000.,\n",
    "    step=500.,\n",
    "    description='Te in K:',\n",
    "    disabled=False,\n",
    "    continuous_update=False,\n",
    "    orientation='horizontal',\n",
    "    readout=True,\n",
    "    readout_format='.1f',\n",
    "    slider_color='white'\n",
    ")\n",
    "\n",
    "\n",
    "w=ipywidgets.interactive(plot1dspec,Ti=slideTi,Te=slideTe)\n",
    "output = w.children[-1]\n",
    "output.layout.height = '800px'\n",
    "output.layout.width= '100%'\n",
    "display(w)"
   ]
  },
  {
   "cell_type": "markdown",
   "metadata": {},
   "source": [
    "## Spectra Image Varying by Wave Number\n",
    "A plot will be created showing how the IS spectra will vary with wave number using the ion temperature from the slider."
   ]
  },
  {
   "cell_type": "code",
   "execution_count": 4,
   "metadata": {},
   "outputs": [
    {
     "data": {
      "application/vnd.jupyter.widget-view+json": {
       "model_id": "885c4d6bbc064c36a20aff21365f4040",
       "version_major": 2,
       "version_minor": 0
      },
      "text/plain": [
       "interactive(children=(FloatSlider(value=1000.0, continuous_update=False, description='Ti in K:', max=5000.0, m…"
      ]
     },
     "metadata": {},
     "output_type": "display_data"
    }
   ],
   "source": [
    "\n",
    "slide1 = ipywidgets.FloatSlider(\n",
    "    value=1000.,\n",
    "    min=500.,\n",
    "    max=5000.,\n",
    "    step=500.,\n",
    "    description='Ti in K:',\n",
    "    disabled=False,\n",
    "    continuous_update=False,\n",
    "    orientation='horizontal',\n",
    "    readout=True,\n",
    "    readout_format='.1f',\n",
    "    slider_color='white'\n",
    ")\n",
    "\n",
    "def plot2dspec(Ti):\n",
    "    \"\"\"Create a 2-D plot of spectra from wave number and frequency.\n",
    "    \n",
    "    Parameters\n",
    "    ----------\n",
    "    Ti : float\n",
    "        Ion temperture in degrees K.\n",
    "    \"\"\"\n",
    "    databloc = np.array([[1e11,Ti],[1e11,2.5e3]])\n",
    "    species=['O+','e-']\n",
    "    newcentfreq  = 449e6 +np.linspace(-200,550,250)*1e6\n",
    "    k_all= 2*2*np.pi*newcentfreq/spconst.c\n",
    "    k_lims=np.array([k_all.min(),k_all.max()])\n",
    "    freq_lims=np.array([newcentfreq.min(),newcentfreq.max()])\n",
    "    oution = []\n",
    "    for i,if_0 in enumerate(newcentfreq):\n",
    "        ISpec_ion = ISRSpectrum(centerFrequency = if_0, nspec=256, sampfreq=50e3,dFlag=False)\n",
    "        fion,ionline= ISpec_ion.getspecsep(databloc,species)\n",
    "        oution.append(ionline)\n",
    "    oution=np.array(oution)\n",
    "    \n",
    "    \n",
    "    F,K_b=np.meshgrid(fion,k_all)\n",
    "    \n",
    "    fig,ax = plt.subplots(1,1,sharey=True, figsize=(6,4),facecolor='w')\n",
    "    \n",
    "    l1=ax.pcolor(F*1e-3,K_b,oution/oution.max(),cmap='viridis')\n",
    "    cb1 = plt.colorbar(l1, ax=ax)\n",
    "    ax.set_xlim([-25,25])\n",
    "    ax.set_ylim(k_lims)\n",
    "    ax.set_xlabel('Frequency (kHz)',fontsize=14)\n",
    "    ax.set_title(r'$\\langle|n_e(\\mathbf{k},\\omega)|^2\\rangle$',fontsize=18)\n",
    "    ax.set_ylabel(r'$|\\mathbf{k}|$ (rad/m)',fontsize=14)\n",
    "\n",
    "w = ipywidgets.interactive(plot2dspec, Ti=slide1)\n",
    "output = w.children[-1]\n",
    "output.layout.height = '1200px'\n",
    "display(w)"
   ]
  },
  {
   "cell_type": "code",
   "execution_count": null,
   "metadata": {
    "collapsed": true
   },
   "outputs": [],
   "source": []
  }
 ],
 "metadata": {
  "kernelspec": {
   "display_name": "Python 3",
   "language": "python",
   "name": "python3"
  },
  "language_info": {
   "codemirror_mode": {
    "name": "ipython",
    "version": 3
   },
   "file_extension": ".py",
   "mimetype": "text/x-python",
   "name": "python",
   "nbconvert_exporter": "python",
   "pygments_lexer": "ipython3",
   "version": "3.7.7"
  },
  "widgets": {
   "state": {
    "d256d4c68d0246678efc960b2e9e416c": {
     "views": [
      {
       "cell_index": 1
      }
     ]
    }
   },
   "version": "1.2.0"
  }
 },
 "nbformat": 4,
 "nbformat_minor": 2
}
